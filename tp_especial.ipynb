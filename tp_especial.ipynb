{
 "cells": [
  {
   "cell_type": "code",
   "execution_count": 7,
   "metadata": {
    "collapsed": false
   },
   "outputs": [],
   "source": [
    "#voy a probar varias cosas:\n",
    "#1: bajar un archivo grib desde un ftp\n",
    "#2: abrir ese archivo grib y tratar de graficarlo\n",
    "\n",
    "#importo la libreria urllib\n",
    "from ftplib import FTP     #conectarme a un ftp para conseguir los datos\n",
    "import os\n",
    "import mpl_toolkits.basemap as bm  # import Basemap matplotlib toolkit\n",
    "import numpy as np\n",
    "import matplotlib.pyplot as plt\n",
    "import pygrib    #para trabajar con archivos grib\n",
    "%matplotlib inline"
   ]
  },
  {
   "cell_type": "code",
   "execution_count": 8,
   "metadata": {
    "collapsed": false
   },
   "outputs": [
    {
     "data": {
      "text/plain": [
       "'230 Login successful.'"
      ]
     },
     "execution_count": 8,
     "metadata": {},
     "output_type": "execute_result"
    }
   ],
   "source": [
    "#conecto con el servidor ftp\n",
    "url = 'ftp.cpc.ncep.noaa.gov'\n",
    "ftp = FTP(url)     # connect to host, default port\n",
    "ftp.login()        # user anonymous, passwd anonymous@ruta = 'ftp.cpc.ncep.noaa.gov/NMME/clim/tmp2m.01.CFSv2.clim.1x1.grb'"
   ]
  },
  {
   "cell_type": "code",
   "execution_count": 9,
   "metadata": {
    "collapsed": false
   },
   "outputs": [
    {
     "name": "stdout",
     "output_type": "stream",
     "text": [
      "-rwxr-xr-x    1 ftp      ftp        587104 May 19  2014 prate.01.CFSv2.clim.1x1.grb\n",
      "-rwxr-xr-x    1 ftp      ftp        530096 May 19  2014 prate.01.CMC1.clim.1x1.grb\n",
      "-rwxr-xr-x    1 ftp      ftp        570816 May 19  2014 prate.01.CMC2.clim.1x1.grb\n",
      "-rwxr-xr-x    1 ftp      ftp        597516 May 19  2014 prate.01.GFDL.clim.1x1.grb\n",
      "-rw-r--r--    1 ftp      ftp        807300 Sep 01  2015 prate.01.GFDL_FLOR.clim.1x1.grb\n",
      "-rwxr-xr-x    1 ftp      ftp        611542 May 19  2014 prate.01.NASA.clim.1x1.grb\n",
      "-rwxr-xr-x    1 ftp      ftp        521952 May 19  2014 prate.01.NCAR.clim.1x1.grb\n",
      "-rw-r--r--    1 ftp      ftp        578960 Sep 01  2015 prate.01.NCAR_CCSM4.clim.1x1.grb\n",
      "-rwxr-xr-x    1 ftp      ftp        587104 May 19  2014 prate.02.CFSv2.clim.1x1.grb\n",
      "-rwxr-xr-x    1 ftp      ftp        538240 May 19  2014 prate.02.CMC1.clim.1x1.grb\n",
      "-rwxr-xr-x    1 ftp      ftp        554528 May 19  2014 prate.02.CMC2.clim.1x1.grb\n",
      "-rwxr-xr-x    1 ftp      ftp        597516 May 19  2014 prate.02.GFDL.clim.1x1.grb\n",
      "-rw-r--r--    1 ftp      ftp        807300 Sep 01  2015 prate.02.GFDL_FLOR.clim.1x1.grb\n",
      "-rwxr-xr-x    1 ftp      ftp        619688 May 19  2014 prate.02.NASA.clim.1x1.grb\n",
      "-rwxr-xr-x    1 ftp      ftp        521952 May 19  2014 prate.02.NCAR.clim.1x1.grb\n",
      "-rw-r--r--    1 ftp      ftp        570816 Sep 01  2015 prate.02.NCAR_CCSM4.clim.1x1.grb\n",
      "-rwxr-xr-x    1 ftp      ftp        587104 May 19  2014 prate.03.CFSv2.clim.1x1.grb\n",
      "-rwxr-xr-x    1 ftp      ftp        538240 May 19  2014 prate.03.CMC1.clim.1x1.grb\n",
      "-rwxr-xr-x    1 ftp      ftp        554528 May 19  2014 prate.03.CMC2.clim.1x1.grb\n",
      "-rwxr-xr-x    1 ftp      ftp        597516 May 19  2014 prate.03.GFDL.clim.1x1.grb\n",
      "-rw-r--r--    1 ftp      ftp        807300 Sep 01  2015 prate.03.GFDL_FLOR.clim.1x1.grb\n",
      "-rw-r--r--    1 ftp      ftp        807300 May 19  2014 prate.03.GFDL_FLORa06.clim.1x1.grb\n",
      "-rw-r--r--    1 ftp      ftp        807300 May 19  2014 prate.03.GFDL_FLORb01.clim.1x1.grb\n",
      "-rwxr-xr-x    1 ftp      ftp        619688 May 19  2014 prate.03.NASA.clim.1x1.grb\n",
      "-rwxr-xr-x    1 ftp      ftp        521952 May 19  2014 prate.03.NCAR.clim.1x1.grb\n",
      "-rw-r--r--    1 ftp      ftp        570816 Sep 01  2015 prate.03.NCAR_CCSM4.clim.1x1.grb\n",
      "-rwxr-xr-x    1 ftp      ftp        513718 May 19  2014 prate.04.CFSv2.clim.1x1.grb\n",
      "-rwxr-xr-x    1 ftp      ftp        554528 May 19  2014 prate.04.CMC1.clim.1x1.grb\n",
      "-rwxr-xr-x    1 ftp      ftp        546384 May 19  2014 prate.04.CMC2.clim.1x1.grb\n",
      "-rwxr-xr-x    1 ftp      ftp        597516 May 19  2014 prate.04.GFDL.clim.1x1.grb\n",
      "-rw-r--r--    1 ftp      ftp        807300 Sep 01  2015 prate.04.GFDL_FLOR.clim.1x1.grb\n",
      "-rw-r--r--    1 ftp      ftp        807300 May 19  2014 prate.04.GFDL_FLORa06.clim.1x1.grb\n",
      "-rw-r--r--    1 ftp      ftp        807300 May 19  2014 prate.04.GFDL_FLORb01.clim.1x1.grb\n",
      "-rwxr-xr-x    1 ftp      ftp        619688 May 19  2014 prate.04.NASA.clim.1x1.grb\n",
      "-rwxr-xr-x    1 ftp      ftp        521952 May 19  2014 prate.04.NCAR.clim.1x1.grb\n",
      "-rw-r--r--    1 ftp      ftp        578960 Sep 01  2015 prate.04.NCAR_CCSM4.clim.1x1.grb\n",
      "-rwxr-xr-x    1 ftp      ftp        513718 May 19  2014 prate.05.CFSv2.clim.1x1.grb\n",
      "-rwxr-xr-x    1 ftp      ftp        562672 May 19  2014 prate.05.CMC1.clim.1x1.grb\n",
      "-rwxr-xr-x    1 ftp      ftp        546384 May 19  2014 prate.05.CMC2.clim.1x1.grb\n",
      "-rwxr-xr-x    1 ftp      ftp        597516 May 19  2014 prate.05.GFDL.clim.1x1.grb\n",
      "-rw-r--r--    1 ftp      ftp        807300 Sep 01  2015 prate.05.GFDL_FLOR.clim.1x1.grb\n",
      "-rwxr-xr-x    1 ftp      ftp        619688 May 19  2014 prate.05.NASA.clim.1x1.grb\n",
      "-rwxr-xr-x    1 ftp      ftp        521952 May 19  2014 prate.05.NCAR.clim.1x1.grb\n",
      "-rw-r--r--    1 ftp      ftp        587104 Sep 01  2015 prate.05.NCAR_CCSM4.clim.1x1.grb\n",
      "-rwxr-xr-x    1 ftp      ftp        578960 May 19  2014 prate.06.CFSv2.clim.1x1.grb\n",
      "-rwxr-xr-x    1 ftp      ftp        546384 May 19  2014 prate.06.CMC1.clim.1x1.grb\n",
      "-rwxr-xr-x    1 ftp      ftp        554528 May 19  2014 prate.06.CMC2.clim.1x1.grb\n",
      "-rwxr-xr-x    1 ftp      ftp        581408 May 19  2014 prate.06.GFDL.clim.1x1.grb\n",
      "-rw-r--r--    1 ftp      ftp        807300 Sep 01  2015 prate.06.GFDL_FLOR.clim.1x1.grb\n",
      "-rwxr-xr-x    1 ftp      ftp        619688 May 19  2014 prate.06.NASA.clim.1x1.grb\n",
      "-rwxr-xr-x    1 ftp      ftp        521952 May 19  2014 prate.06.NCAR.clim.1x1.grb\n",
      "-rw-r--r--    1 ftp      ftp        587104 Sep 01  2015 prate.06.NCAR_CCSM4.clim.1x1.grb\n",
      "-rwxr-xr-x    1 ftp      ftp        505572 May 19  2014 prate.07.CFSv2.clim.1x1.grb\n",
      "-rwxr-xr-x    1 ftp      ftp        546384 May 19  2014 prate.07.CMC1.clim.1x1.grb\n",
      "-rwxr-xr-x    1 ftp      ftp        562672 May 19  2014 prate.07.CMC2.clim.1x1.grb\n",
      "-rwxr-xr-x    1 ftp      ftp        581408 May 19  2014 prate.07.GFDL.clim.1x1.grb\n",
      "-rw-r--r--    1 ftp      ftp        807300 Sep 01  2015 prate.07.GFDL_FLOR.clim.1x1.grb\n",
      "-rwxr-xr-x    1 ftp      ftp        611542 May 19  2014 prate.07.NASA.clim.1x1.grb\n",
      "-rwxr-xr-x    1 ftp      ftp        521952 May 19  2014 prate.07.NCAR.clim.1x1.grb\n",
      "-rw-r--r--    1 ftp      ftp        587104 Sep 01  2015 prate.07.NCAR_CCSM4.clim.1x1.grb\n",
      "-rwxr-xr-x    1 ftp      ftp        570816 May 19  2014 prate.08.CFSv2.clim.1x1.grb\n",
      "-rwxr-xr-x    1 ftp      ftp        546384 May 19  2014 prate.08.CMC1.clim.1x1.grb\n",
      "-rwxr-xr-x    1 ftp      ftp        587104 May 19  2014 prate.08.CMC2.clim.1x1.grb\n",
      "-rwxr-xr-x    1 ftp      ftp        581408 May 19  2014 prate.08.GFDL.clim.1x1.grb\n",
      "-rw-r--r--    1 ftp      ftp        807300 Sep 01  2015 prate.08.GFDL_FLOR.clim.1x1.grb\n",
      "-rwxr-xr-x    1 ftp      ftp        603396 May 19  2014 prate.08.NASA.clim.1x1.grb\n",
      "-rwxr-xr-x    1 ftp      ftp        521952 May 19  2014 prate.08.NCAR.clim.1x1.grb\n",
      "-rw-r--r--    1 ftp      ftp        587104 Sep 01  2015 prate.08.NCAR_CCSM4.clim.1x1.grb\n",
      "-rwxr-xr-x    1 ftp      ftp        570816 May 19  2014 prate.09.CFSv2.clim.1x1.grb\n",
      "-rwxr-xr-x    1 ftp      ftp        538240 May 19  2014 prate.09.CMC1.clim.1x1.grb\n",
      "-rwxr-xr-x    1 ftp      ftp        587104 May 19  2014 prate.09.CMC2.clim.1x1.grb\n",
      "-rwxr-xr-x    1 ftp      ftp        581408 May 19  2014 prate.09.GFDL.clim.1x1.grb\n",
      "-rw-r--r--    1 ftp      ftp        807300 Sep 01  2015 prate.09.GFDL_FLOR.clim.1x1.grb\n",
      "-rwxr-xr-x    1 ftp      ftp        587104 May 19  2014 prate.09.NASA.clim.1x1.grb\n",
      "-rwxr-xr-x    1 ftp      ftp        521952 May 19  2014 prate.09.NCAR.clim.1x1.grb\n",
      "-rw-r--r--    1 ftp      ftp        570816 Sep 01  2015 prate.09.NCAR_CCSM4.clim.1x1.grb\n",
      "-rwxr-xr-x    1 ftp      ftp        570816 May 19  2014 prate.10.CFSv2.clim.1x1.grb\n",
      "-rwxr-xr-x    1 ftp      ftp        530096 May 19  2014 prate.10.CMC1.clim.1x1.grb\n",
      "-rwxr-xr-x    1 ftp      ftp        587104 May 19  2014 prate.10.CMC2.clim.1x1.grb\n",
      "-rwxr-xr-x    1 ftp      ftp        581408 May 19  2014 prate.10.GFDL.clim.1x1.grb\n",
      "-rw-r--r--    1 ftp      ftp        807300 Sep 01  2015 prate.10.GFDL_FLOR.clim.1x1.grb\n",
      "-rwxr-xr-x    1 ftp      ftp        587104 May 19  2014 prate.10.NASA.clim.1x1.grb\n",
      "-rwxr-xr-x    1 ftp      ftp        521952 May 19  2014 prate.10.NCAR.clim.1x1.grb\n",
      "-rw-r--r--    1 ftp      ftp        570816 Sep 01  2015 prate.10.NCAR_CCSM4.clim.1x1.grb\n",
      "-rwxr-xr-x    1 ftp      ftp        578960 May 19  2014 prate.11.CFSv2.clim.1x1.grb\n",
      "-rwxr-xr-x    1 ftp      ftp        530096 May 19  2014 prate.11.CMC1.clim.1x1.grb\n",
      "-rwxr-xr-x    1 ftp      ftp        578960 May 19  2014 prate.11.CMC2.clim.1x1.grb\n",
      "-rwxr-xr-x    1 ftp      ftp        589462 May 19  2014 prate.11.GFDL.clim.1x1.grb\n",
      "-rw-r--r--    1 ftp      ftp        807300 Sep 01  2015 prate.11.GFDL_FLOR.clim.1x1.grb\n",
      "-rwxr-xr-x    1 ftp      ftp        595250 May 19  2014 prate.11.NASA.clim.1x1.grb\n",
      "-rwxr-xr-x    1 ftp      ftp        521952 May 19  2014 prate.11.NCAR.clim.1x1.grb\n",
      "-rw-r--r--    1 ftp      ftp        570816 Sep 01  2015 prate.11.NCAR_CCSM4.clim.1x1.grb\n",
      "-rwxr-xr-x    1 ftp      ftp        587104 May 19  2014 prate.12.CFSv2.clim.1x1.grb\n",
      "-rwxr-xr-x    1 ftp      ftp        521952 May 19  2014 prate.12.CMC1.clim.1x1.grb\n",
      "-rwxr-xr-x    1 ftp      ftp        570816 May 19  2014 prate.12.CMC2.clim.1x1.grb\n",
      "-rwxr-xr-x    1 ftp      ftp        597516 May 19  2014 prate.12.GFDL.clim.1x1.grb\n",
      "-rw-r--r--    1 ftp      ftp        807300 Sep 01  2015 prate.12.GFDL_FLOR.clim.1x1.grb\n",
      "-rwxr-xr-x    1 ftp      ftp        603396 May 19  2014 prate.12.NASA.clim.1x1.grb\n",
      "-rwxr-xr-x    1 ftp      ftp        521952 May 19  2014 prate.12.NCAR.clim.1x1.grb\n",
      "-rw-r--r--    1 ftp      ftp        570816 Sep 01  2015 prate.12.NCAR_CCSM4.clim.1x1.grb\n",
      "-rwxr-xr-x    1 ftp      ftp       1124848 Dec 14  2015 tmp2m.01.CMC1.clim.1x1.grb\n",
      "-rwxr-xr-x    1 ftp      ftp       1124848 Dec 14  2015 tmp2m.01.CMC2.clim.1x1.grb\n",
      "-rwxr-xr-x    1 ftp      ftp       1193948 Dec 14  2015 tmp2m.01.GFDL.clim.1x1.grb\n",
      "-rw-r--r--    1 ftp      ftp       1193948 Sep 01  2015 tmp2m.01.GFDL_FLOR.clim.1x1.grb\n",
      "-rwxr-xr-x    1 ftp      ftp        904766 Dec 14  2015 tmp2m.01.NASA.clim.1x1.grb\n",
      "-rw-r--r--    1 ftp      ftp        896620 Sep 01  2015 tmp2m.01.NCAR_CCSM4.clim.1x1.grb\n",
      "-rwxr-xr-x    1 ftp      ftp        904766 Dec 14  2015 tmp2m.02.CMC1.clim.1x1.grb\n",
      "-rwxr-xr-x    1 ftp      ftp        904766 Dec 14  2015 tmp2m.02.CMC2.clim.1x1.grb\n",
      "-rwxr-xr-x    1 ftp      ftp        959992 Dec 14  2015 tmp2m.02.GFDL.clim.1x1.grb\n",
      "-rw-r--r--    1 ftp      ftp       1193948 Sep 01  2015 tmp2m.02.GFDL_FLOR.clim.1x1.grb\n",
      "-rwxr-xr-x    1 ftp      ftp        904766 Dec 14  2015 tmp2m.02.NASA.clim.1x1.grb\n",
      "-rw-r--r--    1 ftp      ftp        904766 Sep 01  2015 tmp2m.02.NCAR_CCSM4.clim.1x1.grb\n",
      "-rwxr-xr-x    1 ftp      ftp        912912 Dec 14  2015 tmp2m.03.CMC1.clim.1x1.grb\n",
      "-rwxr-xr-x    1 ftp      ftp        912912 Dec 14  2015 tmp2m.03.CMC2.clim.1x1.grb\n",
      "-rwxr-xr-x    1 ftp      ftp        968048 Dec 14  2015 tmp2m.03.GFDL.clim.1x1.grb\n",
      "-rw-r--r--    1 ftp      ftp       1193948 Sep 01  2015 tmp2m.03.GFDL_FLOR.clim.1x1.grb\n",
      "-rwxr-xr-x    1 ftp      ftp        912912 Dec 14  2015 tmp2m.03.NASA.clim.1x1.grb\n",
      "-rw-r--r--    1 ftp      ftp        912912 Sep 01  2015 tmp2m.03.NCAR_CCSM4.clim.1x1.grb\n",
      "-rwxr-xr-x    1 ftp      ftp        904766 Dec 14  2015 tmp2m.04.CMC1.clim.1x1.grb\n",
      "-rwxr-xr-x    1 ftp      ftp        912912 Dec 14  2015 tmp2m.04.CMC2.clim.1x1.grb\n",
      "-rwxr-xr-x    1 ftp      ftp        959992 Dec 14  2015 tmp2m.04.GFDL.clim.1x1.grb\n",
      "-rw-r--r--    1 ftp      ftp       1185892 Sep 01  2015 tmp2m.04.GFDL_FLOR.clim.1x1.grb\n",
      "-rwxr-xr-x    1 ftp      ftp        904766 Dec 14  2015 tmp2m.04.NASA.clim.1x1.grb\n",
      "-rw-r--r--    1 ftp      ftp        904766 Sep 01  2015 tmp2m.04.NCAR_CCSM4.clim.1x1.grb\n",
      "-rwxr-xr-x    1 ftp      ftp        896620 Dec 14  2015 tmp2m.05.CMC1.clim.1x1.grb\n",
      "-rwxr-xr-x    1 ftp      ftp        904766 Dec 14  2015 tmp2m.05.CMC2.clim.1x1.grb\n",
      "-rwxr-xr-x    1 ftp      ftp        951936 Dec 14  2015 tmp2m.05.GFDL.clim.1x1.grb\n",
      "-rw-r--r--    1 ftp      ftp       1177836 Sep 01  2015 tmp2m.05.GFDL_FLOR.clim.1x1.grb\n",
      "-rwxr-xr-x    1 ftp      ftp        896620 Dec 14  2015 tmp2m.05.NASA.clim.1x1.grb\n",
      "-rw-r--r--    1 ftp      ftp        896620 Sep 01  2015 tmp2m.05.NCAR_CCSM4.clim.1x1.grb\n",
      "-rwxr-xr-x    1 ftp      ftp        888474 Dec 14  2015 tmp2m.06.CMC1.clim.1x1.grb\n",
      "-rwxr-xr-x    1 ftp      ftp        896620 Dec 14  2015 tmp2m.06.CMC2.clim.1x1.grb\n",
      "-rwxr-xr-x    1 ftp      ftp        943880 Dec 14  2015 tmp2m.06.GFDL.clim.1x1.grb\n",
      "-rw-r--r--    1 ftp      ftp       1177836 Sep 01  2015 tmp2m.06.GFDL_FLOR.clim.1x1.grb\n",
      "-rwxr-xr-x    1 ftp      ftp        888474 Dec 14  2015 tmp2m.06.NASA.clim.1x1.grb\n",
      "-rw-r--r--    1 ftp      ftp        888474 Sep 01  2015 tmp2m.06.NCAR_CCSM4.clim.1x1.grb\n",
      "-rwxr-xr-x    1 ftp      ftp        880328 Dec 14  2015 tmp2m.07.CMC1.clim.1x1.grb\n",
      "-rwxr-xr-x    1 ftp      ftp        888474 Dec 14  2015 tmp2m.07.CMC2.clim.1x1.grb\n",
      "-rwxr-xr-x    1 ftp      ftp        935824 Dec 14  2015 tmp2m.07.GFDL.clim.1x1.grb\n",
      "-rw-r--r--    1 ftp      ftp       1177836 Sep 01  2015 tmp2m.07.GFDL_FLOR.clim.1x1.grb\n",
      "-rwxr-xr-x    1 ftp      ftp        880328 Dec 14  2015 tmp2m.07.NASA.clim.1x1.grb\n",
      "-rw-r--r--    1 ftp      ftp        880328 Sep 01  2015 tmp2m.07.NCAR_CCSM4.clim.1x1.grb\n",
      "-rwxr-xr-x    1 ftp      ftp        880328 Dec 14  2015 tmp2m.08.CMC1.clim.1x1.grb\n",
      "-rwxr-xr-x    1 ftp      ftp        880328 Dec 14  2015 tmp2m.08.CMC2.clim.1x1.grb\n",
      "-rwxr-xr-x    1 ftp      ftp       1177836 Dec 14  2015 tmp2m.08.GFDL.clim.1x1.grb\n",
      "-rw-r--r--    1 ftp      ftp       1177836 Sep 01  2015 tmp2m.08.GFDL_FLOR.clim.1x1.grb\n",
      "-rwxr-xr-x    1 ftp      ftp        994442 Dec 14  2015 tmp2m.08.NASA.clim.1x1.grb\n",
      "-rw-r--r--    1 ftp      ftp        880328 Sep 01  2015 tmp2m.08.NCAR_CCSM4.clim.1x1.grb\n",
      "-rwxr-xr-x    1 ftp      ftp        880328 Dec 14  2015 tmp2m.09.CMC1.clim.1x1.grb\n",
      "-rwxr-xr-x    1 ftp      ftp        880328 Dec 14  2015 tmp2m.09.CMC2.clim.1x1.grb\n",
      "-rwxr-xr-x    1 ftp      ftp       1177836 Dec 14  2015 tmp2m.09.GFDL.clim.1x1.grb\n",
      "-rw-r--r--    1 ftp      ftp       1177836 Sep 01  2015 tmp2m.09.GFDL_FLOR.clim.1x1.grb\n",
      "-rwxr-xr-x    1 ftp      ftp       1002588 Dec 14  2015 tmp2m.09.NASA.clim.1x1.grb\n",
      "-rw-r--r--    1 ftp      ftp        880328 Sep 01  2015 tmp2m.09.NCAR_CCSM4.clim.1x1.grb\n",
      "-rwxr-xr-x    1 ftp      ftp       1100410 Dec 14  2015 tmp2m.10.CFSv2.clim.1x1.grb\n",
      "-rwxr-xr-x    1 ftp      ftp        880328 Dec 14  2015 tmp2m.10.CMC1.clim.1x1.grb\n",
      "-rwxr-xr-x    1 ftp      ftp        880328 Dec 14  2015 tmp2m.10.CMC2.clim.1x1.grb\n",
      "-rwxr-xr-x    1 ftp      ftp       1177836 Dec 14  2015 tmp2m.10.GFDL.clim.1x1.grb\n",
      "-rw-r--r--    1 ftp      ftp       1177836 Sep 01  2015 tmp2m.10.GFDL_FLOR.clim.1x1.grb\n",
      "-rwxr-xr-x    1 ftp      ftp        896620 Dec 14  2015 tmp2m.10.NASA.clim.1x1.grb\n",
      "-rw-r--r--    1 ftp      ftp        880328 Sep 01  2015 tmp2m.10.NCAR_CCSM4.clim.1x1.grb\n",
      "-rwxr-xr-x    1 ftp      ftp        880328 Dec 14  2015 tmp2m.11.CMC1.clim.1x1.grb\n",
      "-rwxr-xr-x    1 ftp      ftp        880328 Dec 14  2015 tmp2m.11.CMC2.clim.1x1.grb\n",
      "-rwxr-xr-x    1 ftp      ftp       1177836 Dec 14  2015 tmp2m.11.GFDL.clim.1x1.grb\n",
      "-rw-r--r--    1 ftp      ftp       1177836 Sep 01  2015 tmp2m.11.GFDL_FLOR.clim.1x1.grb\n",
      "-rwxr-xr-x    1 ftp      ftp       1010734 Dec 14  2015 tmp2m.11.NASA.clim.1x1.grb\n",
      "-rw-r--r--    1 ftp      ftp        880328 Sep 01  2015 tmp2m.11.NCAR_CCSM4.clim.1x1.grb\n",
      "-rwxr-xr-x    1 ftp      ftp       1108556 Dec 14  2015 tmp2m.12.CFSv2.clim.1x1.grb\n",
      "-rwxr-xr-x    1 ftp      ftp       1116702 Dec 14  2015 tmp2m.12.CMC1.clim.1x1.grb\n",
      "-rwxr-xr-x    1 ftp      ftp       1116702 Dec 14  2015 tmp2m.12.CMC2.clim.1x1.grb\n",
      "-rwxr-xr-x    1 ftp      ftp       1185892 Dec 14  2015 tmp2m.12.GFDL.clim.1x1.grb\n",
      "-rw-r--r--    1 ftp      ftp       1185892 Sep 01  2015 tmp2m.12.GFDL_FLOR.clim.1x1.grb\n",
      "-rwxr-xr-x    1 ftp      ftp       1010734 Dec 14  2015 tmp2m.12.NASA.clim.1x1.grb\n",
      "-rw-r--r--    1 ftp      ftp        888474 Sep 01  2015 tmp2m.12.NCAR_CCSM4.clim.1x1.grb\n",
      "-rwxrwxr-x    1 ftp      ftp        896620 Aug 01  2013 tmpsfc.01.CFSv2.clim.1x1.grb\n",
      "-rw-r--r--    1 ftp      ftp        657660 Sep 01  2015 tmpsfc.01.GFDL_FLOR.clim.1x1.grb\n",
      "-rw-r--r--    1 ftp      ftp        580464 Sep 01  2015 tmpsfc.01.NCAR_CCSM4.clim.1x1.grb\n",
      "-rwxrwxr-x    1 ftp      ftp        912912 Aug 01  2013 tmpsfc.02.CFSv2.clim.1x1.grb\n",
      "-rw-r--r--    1 ftp      ftp        657660 Sep 01  2015 tmpsfc.02.GFDL_FLOR.clim.1x1.grb\n",
      "-rw-r--r--    1 ftp      ftp        580464 Sep 01  2015 tmpsfc.02.NCAR_CCSM4.clim.1x1.grb\n",
      "-rwxrwxr-x    1 ftp      ftp        912912 Aug 01  2013 tmpsfc.03.CFSv2.clim.1x1.grb\n",
      "-rw-r--r--    1 ftp      ftp        657660 Sep 01  2015 tmpsfc.03.GFDL_FLOR.clim.1x1.grb\n",
      "-rw-r--r--    1 ftp      ftp        580464 Sep 01  2015 tmpsfc.03.NCAR_CCSM4.clim.1x1.grb\n",
      "-rwxrwxr-x    1 ftp      ftp        790652 Aug 01  2013 tmpsfc.04.CFSv2.clim.1x1.grb\n",
      "-rw-r--r--    1 ftp      ftp        657660 Sep 01  2015 tmpsfc.04.GFDL_FLOR.clim.1x1.grb\n",
      "-rw-r--r--    1 ftp      ftp        580464 Sep 01  2015 tmpsfc.04.NCAR_CCSM4.clim.1x1.grb\n",
      "-rwxrwxr-x    1 ftp      ftp        782506 Aug 01  2013 tmpsfc.05.CFSv2.clim.1x1.grb\n",
      "-rw-r--r--    1 ftp      ftp        657660 Sep 01  2015 tmpsfc.05.GFDL_FLOR.clim.1x1.grb\n",
      "-rw-r--r--    1 ftp      ftp        580464 Sep 01  2015 tmpsfc.05.NCAR_CCSM4.clim.1x1.grb\n",
      "-rwxrwxr-x    1 ftp      ftp        888474 Aug 01  2013 tmpsfc.06.CFSv2.clim.1x1.grb\n",
      "-rw-r--r--    1 ftp      ftp        657660 Sep 01  2015 tmpsfc.06.GFDL_FLOR.clim.1x1.grb\n",
      "-rw-r--r--    1 ftp      ftp        580464 Sep 01  2015 tmpsfc.06.NCAR_CCSM4.clim.1x1.grb\n",
      "-rwxrwxr-x    1 ftp      ftp        766214 Aug 01  2013 tmpsfc.07.CFSv2.clim.1x1.grb\n",
      "-rw-r--r--    1 ftp      ftp        657660 Sep 01  2015 tmpsfc.07.GFDL_FLOR.clim.1x1.grb\n",
      "-rw-r--r--    1 ftp      ftp        580464 Sep 01  2015 tmpsfc.07.NCAR_CCSM4.clim.1x1.grb\n",
      "-rwxrwxr-x    1 ftp      ftp        766214 Aug 22  2014 tmpsfc.08.CFSv2.clim.1x1.grb\n",
      "-rw-r--r--    1 ftp      ftp        657660 Sep 01  2015 tmpsfc.08.GFDL_FLOR.clim.1x1.grb\n",
      "-rw-r--r--    1 ftp      ftp        580464 Sep 01  2015 tmpsfc.08.NCAR_CCSM4.clim.1x1.grb\n",
      "-rwxrwxr-x    1 ftp      ftp        766214 Sep 09  2014 tmpsfc.09.CFSv2.clim.1x1.grb\n",
      "-rw-r--r--    1 ftp      ftp        657660 Sep 01  2015 tmpsfc.09.GFDL_FLOR.clim.1x1.grb\n",
      "-rw-r--r--    1 ftp      ftp        580464 Sep 01  2015 tmpsfc.09.NCAR_CCSM4.clim.1x1.grb\n",
      "-rwxrwxr-x    1 ftp      ftp        880328 Aug 01  2013 tmpsfc.10.CFSv2.clim.1x1.grb\n",
      "-rw-r--r--    1 ftp      ftp        657660 Sep 01  2015 tmpsfc.10.GFDL_FLOR.clim.1x1.grb\n",
      "-rw-r--r--    1 ftp      ftp        580464 Sep 01  2015 tmpsfc.10.NCAR_CCSM4.clim.1x1.grb\n",
      "-rwxrwxr-x    1 ftp      ftp        880328 Aug 01  2013 tmpsfc.11.CFSv2.clim.1x1.grb\n",
      "-rw-r--r--    1 ftp      ftp        657660 Sep 01  2015 tmpsfc.11.GFDL_FLOR.clim.1x1.grb\n",
      "-rw-r--r--    1 ftp      ftp        580464 Sep 01  2015 tmpsfc.11.NCAR_CCSM4.clim.1x1.grb\n",
      "-rwxrwxr-x    1 ftp      ftp        888474 Aug 01  2013 tmpsfc.12.CFSv2.clim.1x1.grb\n",
      "-rw-r--r--    1 ftp      ftp        657660 Sep 01  2015 tmpsfc.12.GFDL_FLOR.clim.1x1.grb\n",
      "-rw-r--r--    1 ftp      ftp        580464 Sep 01  2015 tmpsfc.12.NCAR_CCSM4.clim.1x1.grb\n",
      "data/tmpsfc.01.CFSv2.clim.1x1.grb\n"
     ]
    },
    {
     "data": {
      "text/plain": [
       "'221 Goodbye.'"
      ]
     },
     "execution_count": 9,
     "metadata": {},
     "output_type": "execute_result"
    }
   ],
   "source": [
    "#manipulo archivos dentro del directorio clim\n",
    "ftp.cwd('/NMME/clim/')   #ingreso al directorio\n",
    "ftp.dir()                #listo los archivos\n",
    "filename = 'tmpsfc.01.CFSv2.clim.1x1.grb'  #archivo ejemplo\n",
    "local_filename = os.path.join('data', filename) #ruta donde voy a generar el archivo que se escribe\n",
    "print(local_filename)\n",
    "file = open(local_filename, 'wb')   #abro el archivo donde se va a alojar\n",
    "ftp.retrbinary('RETR '+ filename, file.write)  #recibo info y guardo en archivo\n",
    "\n",
    "file.close()       #cierro archivo\n",
    "ftp.quit()      # This is the “polite” way to close a connection  me voy del ftp"
   ]
  },
  {
   "cell_type": "code",
   "execution_count": 10,
   "metadata": {
    "collapsed": false
   },
   "outputs": [
    {
     "name": "stdout",
     "output_type": "stream",
     "text": [
      "1:Temperature:K (avg):regular_ll:surface:level 0:fcst time 0-720 months (avg):from 201101010000\n",
      "2:Temperature:K (avg):regular_ll:surface:level 0:fcst time 720-1440 months (avg):from 201101010000\n",
      "3:Temperature:K (avg):regular_ll:surface:level 0:fcst time 1440-2160 months (avg):from 201101010000\n",
      "4:Temperature:K (avg):regular_ll:surface:level 0:fcst time 2160-2880 months (avg):from 201101010000\n",
      "5:Temperature:K (avg):regular_ll:surface:level 0:fcst time 2880-3600 months (avg):from 201101010000\n",
      "6:Temperature:K (avg):regular_ll:surface:level 0:fcst time 3600-4320 months (avg):from 201101010000\n",
      "7:Temperature:K (avg):regular_ll:surface:level 0:fcst time 4320-5040 months (avg):from 201101010000\n",
      "8:Temperature:K (avg):regular_ll:surface:level 0:fcst time 5040-5760 months (avg):from 201101010000\n"
     ]
    }
   ],
   "source": [
    "#grib_file = 'tmp2m.12.CFSv2.clim.1x1.grb'\n",
    "\n",
    "grbs = pygrib.open(local_filename)\n",
    "\n",
    "for grb in grbs:\n",
    "    print (grb)\n",
    "file.close()"
   ]
  },
  {
   "cell_type": "code",
   "execution_count": 11,
   "metadata": {
    "collapsed": false
   },
   "outputs": [
    {
     "name": "stdout",
     "output_type": "stream",
     "text": [
      "2\n",
      "3\n",
      "4\n",
      "(181, 360)\n"
     ]
    }
   ],
   "source": [
    "grbs.rewind() # rewind the iterator\n",
    "t2mens = []\n",
    "i_month = 1\n",
    "e_month = 3\n",
    "\n",
    "for grb in grbs[1:4]:\n",
    "    print(grb.messagenumber)\n",
    "#    if grb.validDate == date_valid and grb.parameterName == 'Temperature' and grb.level == 2: \n",
    "    t2mens.append(grb.values)#t2mens = np.array(t2mens)\n",
    "t2mens = np.array(t2mens)\n",
    "t2mens=np.mean(t2mens,0)\n",
    "#print t2mens.shape, t2mens.min(), t2mens.max()\n",
    "lats, lons = grb.latlons()  # get the lats and lons for the grid.\n",
    "lats = lats[:,1]\n",
    "lons = lons[1,:]\n",
    "print(t2mens.shape)\n",
    "#print 'min/max lat and lon',lats.min(), lats.max(), lons.min(), lons.max()"
   ]
  },
  {
   "cell_type": "code",
   "execution_count": 12,
   "metadata": {
    "collapsed": false
   },
   "outputs": [
    {
     "data": {
      "image/png": "[encoded data removed]",
      "text/plain": [
       "<matplotlib.figure.Figure at 0x7f4ab055a908>"
      ]
     },
     "metadata": {},
     "output_type": "display_data"
    }
   ],
   "source": [
    "mapproj = bm.Basemap(llcrnrlon = 360-85,llcrnrlat = -60, urcrnrlon = 360-25,\n",
    "           urcrnrlat = 10 , projection = 'mill', area_thresh =10000 ,\n",
    "           resolution='l')\n",
    "\n",
    "mapproj.drawcoastlines()\n",
    "mapproj.drawcountries()\n",
    "mapproj.drawparallels(np.array([-60, -40, -20, 0]))#, labels=[1,0,0,0])\n",
    "mapproj.drawmeridians(np.arange(0,360,60))#, labels=[0,0,0,1])\n",
    "\n",
    "lonall, latall = np.meshgrid(lons, lats)\n",
    "lonproj, latproj = mapproj(lonall, latall)\n",
    "#print(lonproj.shape)\n",
    "#print(latproj.shape)\n",
    "cs = plt.contourf(lonproj,latproj,t2mens[:,:],10)\n",
    "t = plt.title('Prueba')\n",
    "plt.show()"
   ]
  },
  {
   "cell_type": "code",
   "execution_count": 132,
   "metadata": {
    "collapsed": false
   },
   "outputs": [
    {
     "name": "stdout",
     "output_type": "stream",
     "text": [
      "[   0.    1.    2.    3.    4.    5.    6.    7.    8.    9.   10.   11.\n",
      "   12.   13.   14.   15.   16.   17.   18.   19.   20.   21.   22.   23.\n",
      "   24.   25.   26.   27.   28.   29.   30.   31.   32.   33.   34.   35.\n",
      "   36.   37.   38.   39.   40.   41.   42.   43.   44.   45.   46.   47.\n",
      "   48.   49.   50.   51.   52.   53.   54.   55.   56.   57.   58.   59.\n",
      "   60.   61.   62.   63.   64.   65.   66.   67.   68.   69.   70.   71.\n",
      "   72.   73.   74.   75.   76.   77.   78.   79.   80.   81.   82.   83.\n",
      "   84.   85.   86.   87.   88.   89.   90.   91.   92.   93.   94.   95.\n",
      "   96.   97.   98.   99.  100.  101.  102.  103.  104.  105.  106.  107.\n",
      "  108.  109.  110.  111.  112.  113.  114.  115.  116.  117.  118.  119.\n",
      "  120.  121.  122.  123.  124.  125.  126.  127.  128.  129.  130.  131.\n",
      "  132.  133.  134.  135.  136.  137.  138.  139.  140.  141.  142.  143.\n",
      "  144.  145.  146.  147.  148.  149.  150.  151.  152.  153.  154.  155.\n",
      "  156.  157.  158.  159.  160.  161.  162.  163.  164.  165.  166.  167.\n",
      "  168.  169.  170.  171.  172.  173.  174.  175.  176.  177.  178.  179.\n",
      "  180.  181.  182.  183.  184.  185.  186.  187.  188.  189.  190.  191.\n",
      "  192.  193.  194.  195.  196.  197.  198.  199.  200.  201.  202.  203.\n",
      "  204.  205.  206.  207.  208.  209.  210.  211.  212.  213.  214.  215.\n",
      "  216.  217.  218.  219.  220.  221.  222.  223.  224.  225.  226.  227.\n",
      "  228.  229.  230.  231.  232.  233.  234.  235.  236.  237.  238.  239.\n",
      "  240.  241.  242.  243.  244.  245.  246.  247.  248.  249.  250.  251.\n",
      "  252.  253.  254.  255.  256.  257.  258.  259.  260.  261.  262.  263.\n",
      "  264.  265.  266.  267.  268.  269.  270.  271.  272.  273.  274.  275.\n",
      "  276.  277.  278.  279.  280.  281.  282.  283.  284.  285.  286.  287.\n",
      "  288.  289.  290.  291.  292.  293.  294.  295.  296.  297.  298.  299.\n",
      "  300.  301.  302.  303.  304.  305.  306.  307.  308.  309.  310.  311.\n",
      "  312.  313.  314.  315.  316.  317.  318.  319.  320.  321.  322.  323.\n",
      "  324.  325.  326.  327.  328.  329.  330.  331.  332.  333.  334.  335.\n",
      "  336.  337.  338.  339.  340.  341.  342.  343.  344.  345.  346.  347.\n",
      "  348.  349.  350.  351.  352.  353.  354.  355.  356.  357.  358.  359.]\n"
     ]
    }
   ],
   "source": [
    "\n"
   ]
  },
  {
   "cell_type": "code",
   "execution_count": null,
   "metadata": {
    "collapsed": true
   },
   "outputs": [],
   "source": []
  }
 ],
 "metadata": {
  "anaconda-cloud": {},
  "kernelspec": {
   "display_name": "Python [Root]",
   "language": "python",
   "name": "Python [Root]"
  },
  "language_info": {
   "codemirror_mode": {
    "name": "ipython",
    "version": 3
   },
   "file_extension": ".py",
   "mimetype": "text/x-python",
   "name": "python",
   "nbconvert_exporter": "python",
   "pygments_lexer": "ipython3",
   "version": "3.5.2"
  }
 },
 "nbformat": 4,
 "nbformat_minor": 0
}
