{
 "cells": [
  {
   "cell_type": "code",
   "execution_count": 14,
   "metadata": {
    "collapsed": false
   },
   "outputs": [],
   "source": [
    "#voy a probar varias cosas:\n",
    "#1: bajar un archivo grib desde un ftp\n",
    "#2: abrir ese archivo grib y tratar de graficarlo\n",
    "\n",
    "#importo la libreria urllib\n",
    "from ftplib import FTP     #conectarme a un ftp para conseguir los datos\n",
    "import os\n",
    "import mpl_toolkits.basemap as bm  # import Basemap matplotlib toolkit\n",
    "import numpy as np\n",
    "import matplotlib.pyplot as plt\n",
    "import pygrib    #para trabajar con archivos grib\n",
    "%matplotlib inline"
   ]
  },
  {
   "cell_type": "code",
   "execution_count": 15,
   "metadata": {
    "collapsed": false
   },
   "outputs": [
    {
     "data": {
      "text/plain": [
       "'230 Login successful.'"
      ]
     },
     "execution_count": 15,
     "metadata": {},
     "output_type": "execute_result"
    }
   ],
   "source": [
    "#conecto con el servidor ftp\n",
    "url = 'ftp.cpc.ncep.noaa.gov'\n",
    "ftp = FTP(url)     # connect to host, default port\n",
    "ftp.login()        # user anonymous, passwd anonymous@ruta = 'ftp.cpc.ncep.noaa.gov/NMME/clim/tmp2m.01.CFSv2.clim.1x1.grb'"
   ]
  },
  {
   "cell_type": "code",
   "execution_count": 16,
   "metadata": {
    "collapsed": false
   },
   "outputs": [
    {
     "ename": "error_perm",
     "evalue": "550 Failed to open file.",
     "output_type": "error",
     "traceback": [
      "\u001b[1;31m---------------------------------------------------------------------------\u001b[0m",
      "\u001b[1;31merror_perm\u001b[0m                                Traceback (most recent call last)",
      "\u001b[1;32m<ipython-input-16-aa972c0fe2dc>\u001b[0m in \u001b[0;36m<module>\u001b[1;34m()\u001b[0m\n\u001b[0;32m      5\u001b[0m \u001b[0mlocal_filename\u001b[0m \u001b[1;33m=\u001b[0m \u001b[0mos\u001b[0m\u001b[1;33m.\u001b[0m\u001b[0mpath\u001b[0m\u001b[1;33m.\u001b[0m\u001b[0mjoin\u001b[0m\u001b[1;33m(\u001b[0m\u001b[1;34m'data'\u001b[0m\u001b[1;33m,\u001b[0m \u001b[0mfilename\u001b[0m\u001b[1;33m)\u001b[0m \u001b[1;31m#ruta donde voy a generar el archivo que se escribe\u001b[0m\u001b[1;33m\u001b[0m\u001b[0m\n\u001b[0;32m      6\u001b[0m \u001b[0mfile\u001b[0m \u001b[1;33m=\u001b[0m \u001b[0mopen\u001b[0m\u001b[1;33m(\u001b[0m\u001b[0mlocal_filename\u001b[0m\u001b[1;33m,\u001b[0m \u001b[1;34m'wb'\u001b[0m\u001b[1;33m)\u001b[0m   \u001b[1;31m#abro el archivo donde se va a alojar\u001b[0m\u001b[1;33m\u001b[0m\u001b[0m\n\u001b[1;32m----> 7\u001b[1;33m \u001b[0mftp\u001b[0m\u001b[1;33m.\u001b[0m\u001b[0mretrbinary\u001b[0m\u001b[1;33m(\u001b[0m\u001b[1;34m'RETR '\u001b[0m\u001b[1;33m+\u001b[0m \u001b[0mfilename\u001b[0m\u001b[1;33m,\u001b[0m \u001b[0mfile\u001b[0m\u001b[1;33m.\u001b[0m\u001b[0mwrite\u001b[0m\u001b[1;33m)\u001b[0m  \u001b[1;31m#recibo info y guardo en archivo\u001b[0m\u001b[1;33m\u001b[0m\u001b[0m\n\u001b[0m\u001b[0;32m      8\u001b[0m \u001b[1;33m\u001b[0m\u001b[0m\n\u001b[0;32m      9\u001b[0m \u001b[0mfile\u001b[0m\u001b[1;33m.\u001b[0m\u001b[0mclose\u001b[0m\u001b[1;33m(\u001b[0m\u001b[1;33m)\u001b[0m       \u001b[1;31m#cierro archivo\u001b[0m\u001b[1;33m\u001b[0m\u001b[0m\n",
      "\u001b[1;32m/home/marisol/anaconda3/lib/python3.5/ftplib.py\u001b[0m in \u001b[0;36mretrbinary\u001b[1;34m(self, cmd, callback, blocksize, rest)\u001b[0m\n\u001b[0;32m    439\u001b[0m         \"\"\"\n\u001b[0;32m    440\u001b[0m         \u001b[0mself\u001b[0m\u001b[1;33m.\u001b[0m\u001b[0mvoidcmd\u001b[0m\u001b[1;33m(\u001b[0m\u001b[1;34m'TYPE I'\u001b[0m\u001b[1;33m)\u001b[0m\u001b[1;33m\u001b[0m\u001b[0m\n\u001b[1;32m--> 441\u001b[1;33m         \u001b[1;32mwith\u001b[0m \u001b[0mself\u001b[0m\u001b[1;33m.\u001b[0m\u001b[0mtransfercmd\u001b[0m\u001b[1;33m(\u001b[0m\u001b[0mcmd\u001b[0m\u001b[1;33m,\u001b[0m \u001b[0mrest\u001b[0m\u001b[1;33m)\u001b[0m \u001b[1;32mas\u001b[0m \u001b[0mconn\u001b[0m\u001b[1;33m:\u001b[0m\u001b[1;33m\u001b[0m\u001b[0m\n\u001b[0m\u001b[0;32m    442\u001b[0m             \u001b[1;32mwhile\u001b[0m \u001b[1;36m1\u001b[0m\u001b[1;33m:\u001b[0m\u001b[1;33m\u001b[0m\u001b[0m\n\u001b[0;32m    443\u001b[0m                 \u001b[0mdata\u001b[0m \u001b[1;33m=\u001b[0m \u001b[0mconn\u001b[0m\u001b[1;33m.\u001b[0m\u001b[0mrecv\u001b[0m\u001b[1;33m(\u001b[0m\u001b[0mblocksize\u001b[0m\u001b[1;33m)\u001b[0m\u001b[1;33m\u001b[0m\u001b[0m\n",
      "\u001b[1;32m/home/marisol/anaconda3/lib/python3.5/ftplib.py\u001b[0m in \u001b[0;36mtransfercmd\u001b[1;34m(self, cmd, rest)\u001b[0m\n\u001b[0;32m    396\u001b[0m     \u001b[1;32mdef\u001b[0m \u001b[0mtransfercmd\u001b[0m\u001b[1;33m(\u001b[0m\u001b[0mself\u001b[0m\u001b[1;33m,\u001b[0m \u001b[0mcmd\u001b[0m\u001b[1;33m,\u001b[0m \u001b[0mrest\u001b[0m\u001b[1;33m=\u001b[0m\u001b[1;32mNone\u001b[0m\u001b[1;33m)\u001b[0m\u001b[1;33m:\u001b[0m\u001b[1;33m\u001b[0m\u001b[0m\n\u001b[0;32m    397\u001b[0m         \u001b[1;34m\"\"\"Like ntransfercmd() but returns only the socket.\"\"\"\u001b[0m\u001b[1;33m\u001b[0m\u001b[0m\n\u001b[1;32m--> 398\u001b[1;33m         \u001b[1;32mreturn\u001b[0m \u001b[0mself\u001b[0m\u001b[1;33m.\u001b[0m\u001b[0mntransfercmd\u001b[0m\u001b[1;33m(\u001b[0m\u001b[0mcmd\u001b[0m\u001b[1;33m,\u001b[0m \u001b[0mrest\u001b[0m\u001b[1;33m)\u001b[0m\u001b[1;33m[\u001b[0m\u001b[1;36m0\u001b[0m\u001b[1;33m]\u001b[0m\u001b[1;33m\u001b[0m\u001b[0m\n\u001b[0m\u001b[0;32m    399\u001b[0m \u001b[1;33m\u001b[0m\u001b[0m\n\u001b[0;32m    400\u001b[0m     \u001b[1;32mdef\u001b[0m \u001b[0mlogin\u001b[0m\u001b[1;33m(\u001b[0m\u001b[0mself\u001b[0m\u001b[1;33m,\u001b[0m \u001b[0muser\u001b[0m \u001b[1;33m=\u001b[0m \u001b[1;34m''\u001b[0m\u001b[1;33m,\u001b[0m \u001b[0mpasswd\u001b[0m \u001b[1;33m=\u001b[0m \u001b[1;34m''\u001b[0m\u001b[1;33m,\u001b[0m \u001b[0macct\u001b[0m \u001b[1;33m=\u001b[0m \u001b[1;34m''\u001b[0m\u001b[1;33m)\u001b[0m\u001b[1;33m:\u001b[0m\u001b[1;33m\u001b[0m\u001b[0m\n",
      "\u001b[1;32m/home/marisol/anaconda3/lib/python3.5/ftplib.py\u001b[0m in \u001b[0;36mntransfercmd\u001b[1;34m(self, cmd, rest)\u001b[0m\n\u001b[0;32m    362\u001b[0m                 \u001b[1;32mif\u001b[0m \u001b[0mrest\u001b[0m \u001b[1;32mis\u001b[0m \u001b[1;32mnot\u001b[0m \u001b[1;32mNone\u001b[0m\u001b[1;33m:\u001b[0m\u001b[1;33m\u001b[0m\u001b[0m\n\u001b[0;32m    363\u001b[0m                     \u001b[0mself\u001b[0m\u001b[1;33m.\u001b[0m\u001b[0msendcmd\u001b[0m\u001b[1;33m(\u001b[0m\u001b[1;34m\"REST %s\"\u001b[0m \u001b[1;33m%\u001b[0m \u001b[0mrest\u001b[0m\u001b[1;33m)\u001b[0m\u001b[1;33m\u001b[0m\u001b[0m\n\u001b[1;32m--> 364\u001b[1;33m                 \u001b[0mresp\u001b[0m \u001b[1;33m=\u001b[0m \u001b[0mself\u001b[0m\u001b[1;33m.\u001b[0m\u001b[0msendcmd\u001b[0m\u001b[1;33m(\u001b[0m\u001b[0mcmd\u001b[0m\u001b[1;33m)\u001b[0m\u001b[1;33m\u001b[0m\u001b[0m\n\u001b[0m\u001b[0;32m    365\u001b[0m                 \u001b[1;31m# Some servers apparently send a 200 reply to\u001b[0m\u001b[1;33m\u001b[0m\u001b[1;33m\u001b[0m\u001b[0m\n\u001b[0;32m    366\u001b[0m                 \u001b[1;31m# a LIST or STOR command, before the 150 reply\u001b[0m\u001b[1;33m\u001b[0m\u001b[1;33m\u001b[0m\u001b[0m\n",
      "\u001b[1;32m/home/marisol/anaconda3/lib/python3.5/ftplib.py\u001b[0m in \u001b[0;36msendcmd\u001b[1;34m(self, cmd)\u001b[0m\n\u001b[0;32m    270\u001b[0m         \u001b[1;34m'''Send a command and return the response.'''\u001b[0m\u001b[1;33m\u001b[0m\u001b[0m\n\u001b[0;32m    271\u001b[0m         \u001b[0mself\u001b[0m\u001b[1;33m.\u001b[0m\u001b[0mputcmd\u001b[0m\u001b[1;33m(\u001b[0m\u001b[0mcmd\u001b[0m\u001b[1;33m)\u001b[0m\u001b[1;33m\u001b[0m\u001b[0m\n\u001b[1;32m--> 272\u001b[1;33m         \u001b[1;32mreturn\u001b[0m \u001b[0mself\u001b[0m\u001b[1;33m.\u001b[0m\u001b[0mgetresp\u001b[0m\u001b[1;33m(\u001b[0m\u001b[1;33m)\u001b[0m\u001b[1;33m\u001b[0m\u001b[0m\n\u001b[0m\u001b[0;32m    273\u001b[0m \u001b[1;33m\u001b[0m\u001b[0m\n\u001b[0;32m    274\u001b[0m     \u001b[1;32mdef\u001b[0m \u001b[0mvoidcmd\u001b[0m\u001b[1;33m(\u001b[0m\u001b[0mself\u001b[0m\u001b[1;33m,\u001b[0m \u001b[0mcmd\u001b[0m\u001b[1;33m)\u001b[0m\u001b[1;33m:\u001b[0m\u001b[1;33m\u001b[0m\u001b[0m\n",
      "\u001b[1;32m/home/marisol/anaconda3/lib/python3.5/ftplib.py\u001b[0m in \u001b[0;36mgetresp\u001b[1;34m(self)\u001b[0m\n\u001b[0;32m    243\u001b[0m             \u001b[1;32mraise\u001b[0m \u001b[0merror_temp\u001b[0m\u001b[1;33m(\u001b[0m\u001b[0mresp\u001b[0m\u001b[1;33m)\u001b[0m\u001b[1;33m\u001b[0m\u001b[0m\n\u001b[0;32m    244\u001b[0m         \u001b[1;32mif\u001b[0m \u001b[0mc\u001b[0m \u001b[1;33m==\u001b[0m \u001b[1;34m'5'\u001b[0m\u001b[1;33m:\u001b[0m\u001b[1;33m\u001b[0m\u001b[0m\n\u001b[1;32m--> 245\u001b[1;33m             \u001b[1;32mraise\u001b[0m \u001b[0merror_perm\u001b[0m\u001b[1;33m(\u001b[0m\u001b[0mresp\u001b[0m\u001b[1;33m)\u001b[0m\u001b[1;33m\u001b[0m\u001b[0m\n\u001b[0m\u001b[0;32m    246\u001b[0m         \u001b[1;32mraise\u001b[0m \u001b[0merror_proto\u001b[0m\u001b[1;33m(\u001b[0m\u001b[0mresp\u001b[0m\u001b[1;33m)\u001b[0m\u001b[1;33m\u001b[0m\u001b[0m\n\u001b[0;32m    247\u001b[0m \u001b[1;33m\u001b[0m\u001b[0m\n",
      "\u001b[1;31merror_perm\u001b[0m: 550 Failed to open file."
     ]
    }
   ],
   "source": [
    "#manipulo archivos dentro del directorio clim\n",
    "ftp.cwd('/NMME/clim/')   #ingreso al directorio\n",
    "#ftp.dir()                #listo los archivos\n",
    "filename = 'tmp2m.01.CFSv2.clim.1x1.grb'  #archivo ejemplo\n",
    "local_filename = os.path.join('data', filename) #ruta donde voy a generar el archivo que se escribe\n",
    "file = open(local_filename, 'wb')   #abro el archivo donde se va a alojar\n",
    "ftp.retrbinary('RETR '+ filename, file.write)  #recibo info y guardo en archivo\n",
    "\n",
    "file.close()       #cierro archivo\n",
    "ftp.quit()      # This is the “polite” way to close a connection  me voy del ftp"
   ]
  },
  {
   "cell_type": "code",
   "execution_count": 11,
   "metadata": {
    "collapsed": false
   },
   "outputs": [
    {
     "name": "stdout",
     "output_type": "stream",
     "text": [
      "1:Precipitation rate:kg m**-2 s**-1 (avg):regular_ll:surface:level 0:fcst time 0-720 months (avg):from 201101010000\n",
      "2:Precipitation rate:kg m**-2 s**-1 (avg):regular_ll:surface:level 0:fcst time 720-1440 months (avg):from 201101010000\n",
      "3:Precipitation rate:kg m**-2 s**-1 (avg):regular_ll:surface:level 0:fcst time 1440-2160 months (avg):from 201101010000\n",
      "4:Precipitation rate:kg m**-2 s**-1 (avg):regular_ll:surface:level 0:fcst time 2160-2880 months (avg):from 201101010000\n",
      "5:Precipitation rate:kg m**-2 s**-1 (avg):regular_ll:surface:level 0:fcst time 2880-3600 months (avg):from 201101010000\n",
      "6:Precipitation rate:kg m**-2 s**-1 (avg):regular_ll:surface:level 0:fcst time 3600-4320 months (avg):from 201101010000\n",
      "7:Precipitation rate:kg m**-2 s**-1 (avg):regular_ll:surface:level 0:fcst time 4320-5040 months (avg):from 201101010000\n",
      "8:Precipitation rate:kg m**-2 s**-1 (avg):regular_ll:surface:level 0:fcst time 5040-5760 months (avg):from 201101010000\n"
     ]
    }
   ],
   "source": [
    "#grib_file = 'tmp2m.12.CFSv2.clim.1x1.grb'\n",
    "\n",
    "grbs = pygrib.open(local_filename)\n",
    "\n",
    "for grb in grbs:\n",
    "    print (grb)\n"
   ]
  },
  {
   "cell_type": "code",
   "execution_count": 12,
   "metadata": {
    "collapsed": false
   },
   "outputs": [
    {
     "name": "stdout",
     "output_type": "stream",
     "text": [
      "2\n",
      "3\n",
      "4\n",
      "(181, 360)\n"
     ]
    }
   ],
   "source": [
    "grbs.rewind() # rewind the iterator\n",
    "t2mens = []\n",
    "i_month = 1\n",
    "e_month = 3\n",
    "\n",
    "for grb in grbs[1:4]:\n",
    "    print(grb.messagenumber)\n",
    "#    if grb.validDate == date_valid and grb.parameterName == 'Temperature' and grb.level == 2: \n",
    "    t2mens.append(grb.values)#t2mens = np.array(t2mens)\n",
    "t2mens = np.array(t2mens)\n",
    "t2mens=np.mean(t2mens,0)\n",
    "#print t2mens.shape, t2mens.min(), t2mens.max()\n",
    "lats, lons = grb.latlons()  # get the lats and lons for the grid.\n",
    "lats = lats[:,1]\n",
    "lons = lons[1,:]\n",
    "print(t2mens.shape)\n",
    "#print 'min/max lat and lon',lats.min(), lats.max(), lons.min(), lons.max()"
   ]
  },
  {
   "cell_type": "code",
   "execution_count": 13,
   "metadata": {
    "collapsed": false
   },
   "outputs": [
    {
     "data": {
      "image/png": "[encoded data removed]",
      "text/plain": [
       "<matplotlib.figure.Figure at 0x7f453aa01748>"
      ]
     },
     "metadata": {},
     "output_type": "display_data"
    }
   ],
   "source": [
    "mapproj = bm.Basemap(llcrnrlon = 360-85,llcrnrlat = -60, urcrnrlon = 360-25,\n",
    "           urcrnrlat = 10 , projection = 'mill', area_thresh =10000 ,\n",
    "           resolution='l')\n",
    "\n",
    "mapproj.drawcoastlines()\n",
    "mapproj.drawcountries()\n",
    "mapproj.drawparallels(np.array([-60, -40, -20, 0]))#, labels=[1,0,0,0])\n",
    "mapproj.drawmeridians(np.arange(0,360,60))#, labels=[0,0,0,1])\n",
    "\n",
    "lonall, latall = np.meshgrid(lons, lats)\n",
    "lonproj, latproj = mapproj(lonall, latall)\n",
    "#print(lonproj.shape)\n",
    "#print(latproj.shape)\n",
    "cs = plt.contourf(lonproj,latproj,t2mens[:,:],10)\n",
    "t = plt.title('Prueba')\n",
    "plt.show()"
   ]
  },
  {
   "cell_type": "code",
   "execution_count": 132,
   "metadata": {
    "collapsed": false
   },
   "outputs": [
    {
     "name": "stdout",
     "output_type": "stream",
     "text": [
      "[   0.    1.    2.    3.    4.    5.    6.    7.    8.    9.   10.   11.\n",
      "   12.   13.   14.   15.   16.   17.   18.   19.   20.   21.   22.   23.\n",
      "   24.   25.   26.   27.   28.   29.   30.   31.   32.   33.   34.   35.\n",
      "   36.   37.   38.   39.   40.   41.   42.   43.   44.   45.   46.   47.\n",
      "   48.   49.   50.   51.   52.   53.   54.   55.   56.   57.   58.   59.\n",
      "   60.   61.   62.   63.   64.   65.   66.   67.   68.   69.   70.   71.\n",
      "   72.   73.   74.   75.   76.   77.   78.   79.   80.   81.   82.   83.\n",
      "   84.   85.   86.   87.   88.   89.   90.   91.   92.   93.   94.   95.\n",
      "   96.   97.   98.   99.  100.  101.  102.  103.  104.  105.  106.  107.\n",
      "  108.  109.  110.  111.  112.  113.  114.  115.  116.  117.  118.  119.\n",
      "  120.  121.  122.  123.  124.  125.  126.  127.  128.  129.  130.  131.\n",
      "  132.  133.  134.  135.  136.  137.  138.  139.  140.  141.  142.  143.\n",
      "  144.  145.  146.  147.  148.  149.  150.  151.  152.  153.  154.  155.\n",
      "  156.  157.  158.  159.  160.  161.  162.  163.  164.  165.  166.  167.\n",
      "  168.  169.  170.  171.  172.  173.  174.  175.  176.  177.  178.  179.\n",
      "  180.  181.  182.  183.  184.  185.  186.  187.  188.  189.  190.  191.\n",
      "  192.  193.  194.  195.  196.  197.  198.  199.  200.  201.  202.  203.\n",
      "  204.  205.  206.  207.  208.  209.  210.  211.  212.  213.  214.  215.\n",
      "  216.  217.  218.  219.  220.  221.  222.  223.  224.  225.  226.  227.\n",
      "  228.  229.  230.  231.  232.  233.  234.  235.  236.  237.  238.  239.\n",
      "  240.  241.  242.  243.  244.  245.  246.  247.  248.  249.  250.  251.\n",
      "  252.  253.  254.  255.  256.  257.  258.  259.  260.  261.  262.  263.\n",
      "  264.  265.  266.  267.  268.  269.  270.  271.  272.  273.  274.  275.\n",
      "  276.  277.  278.  279.  280.  281.  282.  283.  284.  285.  286.  287.\n",
      "  288.  289.  290.  291.  292.  293.  294.  295.  296.  297.  298.  299.\n",
      "  300.  301.  302.  303.  304.  305.  306.  307.  308.  309.  310.  311.\n",
      "  312.  313.  314.  315.  316.  317.  318.  319.  320.  321.  322.  323.\n",
      "  324.  325.  326.  327.  328.  329.  330.  331.  332.  333.  334.  335.\n",
      "  336.  337.  338.  339.  340.  341.  342.  343.  344.  345.  346.  347.\n",
      "  348.  349.  350.  351.  352.  353.  354.  355.  356.  357.  358.  359.]\n"
     ]
    }
   ],
   "source": [
    "\n"
   ]
  },
  {
   "cell_type": "code",
   "execution_count": null,
   "metadata": {
    "collapsed": true
   },
   "outputs": [],
   "source": []
  }
 ],
 "metadata": {
  "anaconda-cloud": {},
  "kernelspec": {
   "display_name": "Python [Root]",
   "language": "python",
   "name": "Python [Root]"
  },
  "language_info": {
   "codemirror_mode": {
    "name": "ipython",
    "version": 3
   },
   "file_extension": ".py",
   "mimetype": "text/x-python",
   "name": "python",
   "nbconvert_exporter": "python",
   "pygments_lexer": "ipython3",
   "version": "3.5.2"
  }
 },
 "nbformat": 4,
 "nbformat_minor": 0
}
