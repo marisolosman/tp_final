{
 "cells": [
  {
   "cell_type": "code",
   "execution_count": null,
   "metadata": {
    "collapsed": true
   },
   "outputs": [],
   "source": [
    "#!/usr/bin/env python\n",
    "\n",
    "import argparse \n",
    "import model\n",
    "from mpl_toolkits.basemap import Basemap\n",
    "import matplotlib.pyplot as plt\n",
    "\n",
    "def plot_data_matrix(data_matrix):\n",
    "    pass\n",
    "\n",
    "\n",
    "def main():\n",
    "  \n",
    "\t# Define parser data\n",
    "    parser = argparse.ArgumentParser(description='Plotting satellite data.')\n",
    "    # First arguments. Dates. TODO:SPECIFY INITIAL AND FINAL ORDER\n",
    "    parser.add_argument('ini_con', metavar='mon', type=str, nargs=1,\\\n",
    "\t\t      help='Month of Initial condition')    \n",
    "    parser.add_argument('leadtime', metavar='number', type=uint8, nargs=1,\\\n",
    "\t\t      help='Leadtime (number)')\n",
    "    # Specify models to exclude from command line\n",
    "    parser.add_argument('--no-cfs', dest='cfs_bool', action=\"store_true\", \\\n",
    "\t\t      default= False, help=\"Don't display CFS V2 information\")\n",
    "\n",
    "    # Extract dates from args\n",
    "    args=parser.parse_args()\n",
    "    initialDate = args.ini_con[0]\n",
    "    leadtime = args.leadtime[0]\n",
    "    \n",
    "    # Flow control depending on specified options\n",
    "    if not args.cfs_bool:\n",
    "        # Instantiate CFS and get datetime object\n",
    "        cfsv2 = model.CFSV2(initialDate, leadtime)\n",
    "        cfsv2.get_datetime_object()\n",
    "        \n",
    "        # Download files from ASCAT servers\n",
    "        archivo = cfsv2.download_files()\n",
    "        \n",
    "        # Get figure handler and colormap\n",
    "        m, cmap = model.generate_figure()   \n",
    "        \n",
    "        # Process \n",
    "        lat, lon, data = cfsv2.extract_data(archivo)\n",
    "        model.plot_data(m, lat, lon, data, cmap)\n",
    "        \n",
    "        # Finalize plot design and show it\n",
    "        plt.title('CFS - T2m')\n",
    "        plt.show()\n",
    "\n",
    "    else:\n",
    "        print \"You've discarded all models I know!\"\n",
    "\n",
    "if __name__ == \"__main__\":\n",
    "    clean()\n",
    "    main()  "
   ]
  }
 ],
 "metadata": {
  "anaconda-cloud": {},
  "kernelspec": {
   "display_name": "Python [Root]",
   "language": "python",
   "name": "Python [Root]"
  },
  "language_info": {
   "codemirror_mode": {
    "name": "ipython",
    "version": 3
   },
   "file_extension": ".py",
   "mimetype": "text/x-python",
   "name": "python",
   "nbconvert_exporter": "python",
   "pygments_lexer": "ipython3",
   "version": "3.5.2"
  }
 },
 "nbformat": 4,
 "nbformat_minor": 0
}
